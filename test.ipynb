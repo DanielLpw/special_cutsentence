{
 "cells": [
  {
   "cell_type": "code",
   "execution_count": 1,
   "metadata": {},
   "outputs": [],
   "source": [
    "import jieba\n",
    "import jieba.posseg"
   ]
  },
  {
   "cell_type": "code",
   "execution_count": 146,
   "metadata": {},
   "outputs": [],
   "source": [
    "def read_sentence(filepath):\n",
    "    sentences = []\n",
    "    with open(filepath,\"r\",encoding=\"utf-8\")as f:\n",
    "        for word in f.readlines():\n",
    "            sentences.append(word.strip().lower())\n",
    "    return sentences"
   ]
  },
  {
   "cell_type": "code",
   "execution_count": 147,
   "metadata": {},
   "outputs": [],
   "source": [
    "t_sentences = read_sentence('test_file.txt')"
   ]
  },
  {
   "cell_type": "code",
   "execution_count": 148,
   "metadata": {},
   "outputs": [],
   "source": [
    "cut_sentences_PofS = []\n",
    "cut_sentences = []\n",
    "for sentence in t_sentences:\n",
    "    PofS = []\n",
    "    words = []\n",
    "    fenci = jieba.posseg.cut(sentence)\n",
    "    for w in fenci:\n",
    "        words.append(w.word)\n",
    "        PofS.append(w.flag)\n",
    "    cut_sentences.append(words)\n",
    "    cut_sentences_PofS.append(PofS)"
   ]
  },
  {
   "cell_type": "code",
   "execution_count": 179,
   "metadata": {},
   "outputs": [],
   "source": [
    "def check_last_Noun(inputPofS):\n",
    "    n = 0\n",
    "    nouns = ['n','vn','f']\n",
    "    l = len(inputPofS)\n",
    "    for i in range(l):\n",
    "        if inputPofS[i] == 'n':\n",
    "            for j in range(0,l-1-i):\n",
    "                if inputPofS[j+i] in nouns:\n",
    "                    n +=1\n",
    "                elif inputPofS[j+i] not in nouns:\n",
    "                    return j+i-1\n",
    "            return n\n",
    "    return None"
   ]
  },
  {
   "cell_type": "code",
   "execution_count": 180,
   "metadata": {},
   "outputs": [],
   "source": [
    "location = []\n",
    "for i in range(len(cut_sentences_PofS)):\n",
    "#     print(i)\n",
    "    location.append(check_last_Noun(cut_sentences_PofS[i]))"
   ]
  },
  {
   "cell_type": "code",
   "execution_count": 181,
   "metadata": {},
   "outputs": [],
   "source": [
    "location = []\n",
    "for i in range(len(cut_sentences_PofS)):\n",
    "#     print(i)\n",
    "    location.append(check_last_Noun(cut_sentences_PofS[i]))"
   ]
  },
  {
   "cell_type": "code",
   "execution_count": 182,
   "metadata": {},
   "outputs": [],
   "source": [
    "head_nouns = []\n",
    "for i in range(len(location)):\n",
    "    if location[i] == None:\n",
    "        continue\n",
    "    else:\n",
    "        head_nouns.append(cut_sentences[i][0:location[i]+1])"
   ]
  },
  {
   "cell_type": "code",
   "execution_count": 183,
   "metadata": {},
   "outputs": [],
   "source": [
    "def combine_word(cut_wordLofSentence):\n",
    "    text = ''\n",
    "    for i in cut_wordLofSentence:\n",
    "        text = text+i\n",
    "    text = text + ' ' + 'n'\n",
    "    return text"
   ]
  },
  {
   "cell_type": "code",
   "execution_count": 184,
   "metadata": {},
   "outputs": [],
   "source": [
    "output_noun_set = []\n",
    "for j in head_nouns:\n",
    "    output_noun_set.append(combine_word(j))\n",
    "output_noun_set = list(set(output_noun_set))"
   ]
  },
  {
   "cell_type": "code",
   "execution_count": 185,
   "metadata": {},
   "outputs": [],
   "source": [
    "# with open('worddict.txt','w',encoding='utf-8') as outputfile:\n",
    "#     for i in output_noun_set:\n",
    "#         outputfile.writelines(i+'\\n')"
   ]
  },
  {
   "cell_type": "code",
   "execution_count": 196,
   "metadata": {},
   "outputs": [],
   "source": [
    "cut_sentences\n",
    "t = '4s店售后'\n",
    "words = []\n",
    "PofS = []\n",
    "fenci = jieba.posseg.cut(t)\n",
    "for w in fenci:\n",
    "    words.append(w.word)\n",
    "    PofS.append(w.flag)\n",
    "cut_sentences.append(words)\n",
    "cut_sentences_PofS.append(PofS)"
   ]
  },
  {
   "cell_type": "code",
   "execution_count": 197,
   "metadata": {},
   "outputs": [
    {
     "data": {
      "text/plain": [
       "['4s店']"
      ]
     },
     "execution_count": 197,
     "metadata": {},
     "output_type": "execute_result"
    }
   ],
   "source": [
    "words[0:1]"
   ]
  },
  {
   "cell_type": "code",
   "execution_count": 198,
   "metadata": {},
   "outputs": [
    {
     "data": {
      "text/plain": [
       "['n', 'n']"
      ]
     },
     "execution_count": 198,
     "metadata": {},
     "output_type": "execute_result"
    }
   ],
   "source": [
    "PofS"
   ]
  },
  {
   "cell_type": "code",
   "execution_count": 199,
   "metadata": {
    "jupyter": {
     "source_hidden": true
    }
   },
   "outputs": [],
   "source": [
    "# def check_last_Noun(inputPofS):\n",
    "#     n = 0\n",
    "#     nouns = ['n','vn','f']\n",
    "#     for i in range(len(inputPofS)):\n",
    "#         if inputPofS[n] == 'n' and n<len(inputPofS):\n",
    "#             while inputPofS[n+1] in nouns:\n",
    "#                 n += 1\n",
    "#             return n\n",
    "#         else:\n",
    "#             n +=1\n",
    "#     return None\n",
    "def check_last_Noun(inputPofS):\n",
    "    n = 0\n",
    "    nouns = ['n','vn','f']\n",
    "    for i in range(len(inputPofS)):\n",
    "        if inputPofS[n] == 'n':\n",
    "            while inputPofS[n] in nouns and n < l-1:\n",
    "                n +=1\n",
    "        else:\n",
    "            n +=1\n",
    "    else:\n",
    "        return None"
   ]
  },
  {
   "cell_type": "code",
   "execution_count": 200,
   "metadata": {},
   "outputs": [],
   "source": [
    "def check_last_Noun(inputPofS):\n",
    "    n = 0\n",
    "    nouns = ['n','vn','f']\n",
    "    l = len(inputPofS)\n",
    "    for i in range(l):\n",
    "        if inputPofS[i] == 'n':\n",
    "            for j in range(0,l-1-i):\n",
    "                if inputPofS[j+i] in nouns:\n",
    "                    n +=1\n",
    "                elif inputPofS[j+i] not in nouns:\n",
    "                    return j+i-1\n",
    "            return n\n",
    "    return None\n",
    "    "
   ]
  },
  {
   "cell_type": "code",
   "execution_count": 201,
   "metadata": {},
   "outputs": [
    {
     "data": {
      "text/plain": [
       "1"
      ]
     },
     "execution_count": 201,
     "metadata": {},
     "output_type": "execute_result"
    }
   ],
   "source": [
    "check_last_Noun(PofS)"
   ]
  },
  {
   "cell_type": "code",
   "execution_count": 202,
   "metadata": {},
   "outputs": [],
   "source": [
    "head_nouns = []\n",
    "for i in range(len(location)):\n",
    "    if location[i] == None:\n",
    "        continue\n",
    "    else:\n",
    "        head_nouns.append(cut_sentences[i][0:location[i]+1])"
   ]
  },
  {
   "cell_type": "code",
   "execution_count": 203,
   "metadata": {
    "collapsed": true,
    "jupyter": {
     "outputs_hidden": true
    }
   },
   "outputs": [
    {
     "data": {
      "text/plain": [
       "[['360', '°', '全景', '影像'],\n",
       " ['360', '度', '全景', '影像'],\n",
       " ['360', '度', '摄像头'],\n",
       " ['360', '度', '像素'],\n",
       " ['360', '全景', '影像'],\n",
       " ['360', '全景', '影像', '摄像头'],\n",
       " ['360', '全景', '影像'],\n",
       " ['360', '全景', '转向灯'],\n",
       " ['360', '摄像头', '影像'],\n",
       " ['360', '影像'],\n",
       " ['360', '影像'],\n",
       " ['360'],\n",
       " ['4s店'],\n",
       " ['4s店'],\n",
       " ['4s店', '倒闭'],\n",
       " ['4s店'],\n",
       " ['4s店'],\n",
       " ['4s店'],\n",
       " ['4s店'],\n",
       " ['4s店'],\n",
       " ['4s店', '喷漆'],\n",
       " ['4s店', '欺骗'],\n",
       " ['4s店'],\n",
       " ['4s店'],\n",
       " ['4s店'],\n",
       " ['4s店', '太贵'],\n",
       " ['4s店'],\n",
       " ['4s店', '态度'],\n",
       " ['4s店'],\n",
       " ['4s店'],\n",
       " ['4s店', '有点', '远'],\n",
       " ['4s店', '远'],\n",
       " ['4s店'],\n",
       " ['4', 's', '售后'],\n",
       " ['4', '个', '玻璃'],\n",
       " ['4', '个', '轮胎'],\n",
       " ['5', '档'],\n",
       " ['60', '-', '80', '码', '发动机'],\n",
       " ['60', '码', '车身'],\n",
       " ['60', '码'],\n",
       " ['60', '码', '的', '时候'],\n",
       " ['60', '之', '70', '脉', '的', '时候'],\n",
       " ['70'],\n",
       " ['70', '到'],\n",
       " ['70', '码'],\n",
       " ['75'],\n",
       " ['80', '码', '以上', '车窗', '异响'],\n",
       " ['80', '码', '以上'],\n",
       " ['80', '迈', '车辆'],\n",
       " ['80', '迈', '时会'],\n",
       " ['8', '个', '多', '小时'],\n",
       " ['90', '-', '110', '码'],\n",
       " ['90', '码', '的', '时候', '车辆'],\n",
       " ['4s店'],\n",
       " ['4s店']]"
      ]
     },
     "execution_count": 203,
     "metadata": {},
     "output_type": "execute_result"
    }
   ],
   "source": [
    "head_nouns"
   ]
  },
  {
   "cell_type": "code",
   "execution_count": null,
   "metadata": {},
   "outputs": [],
   "source": [
    "data['']"
   ]
  },
  {
   "cell_type": "code",
   "execution_count": null,
   "metadata": {},
   "outputs": [],
   "source": []
  }
 ],
 "metadata": {
  "kernelspec": {
   "display_name": "Python 3",
   "language": "python",
   "name": "python3"
  },
  "language_info": {
   "codemirror_mode": {
    "name": "ipython",
    "version": 3
   },
   "file_extension": ".py",
   "mimetype": "text/x-python",
   "name": "python",
   "nbconvert_exporter": "python",
   "pygments_lexer": "ipython3",
   "version": "3.8.3"
  }
 },
 "nbformat": 4,
 "nbformat_minor": 4
}
